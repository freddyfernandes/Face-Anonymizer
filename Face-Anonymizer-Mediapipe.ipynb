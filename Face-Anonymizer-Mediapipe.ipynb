{
 "cells": [
  {
   "cell_type": "code",
   "execution_count": null,
   "id": "e6f4dcfc",
   "metadata": {},
   "outputs": [],
   "source": [
    "import os\n",
    "import argparse\n",
    "import cv2\n",
    "import mediapipe as mp"
   ]
  },
  {
   "cell_type": "code",
   "execution_count": null,
   "id": "6a9fcf29",
   "metadata": {},
   "outputs": [],
   "source": [
    "def process_img(img,face_detection):\n",
    "    \n",
    "    H, W, _ = img.shape\n",
    "    img_rgb = cv2.cvtColor(img, cv2.COLOR_BGR2RGB)\n",
    "    out = face_detection.process(img_rgb)\n",
    "    \n",
    "    if out.detections is not None: #to avoid no face error\n",
    "        for detection in out.detections:\n",
    "            location_data = detection.location_data\n",
    "            bbox = location_data.relative_bounding_box\n",
    "            x1 ,y1 , w, h=bbox.xmin, bbox.ymin, bbox.width, bbox.height\n",
    "            #convert relative values to integers\n",
    "            x1= int(x1 * W)\n",
    "            y1= int(y1 * H)\n",
    "            w= int(w * W)\n",
    "            h= int(h * H)  \n",
    "            #blur faces\n",
    "            img[y1 : y1 + h, x1: x1 + w, :]= cv2.blur(img[y1: y1 + h, x1: x1 + w, :],(50,50))\n",
    "    return img"
   ]
  },
  {
   "cell_type": "code",
   "execution_count": null,
   "id": "f7ece52f",
   "metadata": {},
   "outputs": [],
   "source": [
    "# Create ArgumentParser object\n",
    "parser = argparse.ArgumentParser()\n",
    "\n",
    "# modify arguements to use image, video or webcam\n",
    "parser.add_argument(\"--mode\", default='webcam')\n",
    "#add filepath for image or video\n",
    "parser.add_argument(\"--filePath\", default=None)\n",
    "\n",
    "# Parse arguments, ignoring unknown ones\n",
    "args, unknown_args = parser.parse_known_args()\n",
    "\n"
   ]
  },
  {
   "cell_type": "code",
   "execution_count": null,
   "id": "36d1e08c",
   "metadata": {},
   "outputs": [],
   "source": [
    "#save output\n",
    "output_dir = './output'\n",
    "if not os.path.exists(output_dir):\n",
    "    os.makedirs(output_dir)"
   ]
  },
  {
   "cell_type": "code",
   "execution_count": null,
   "id": "e789b3df",
   "metadata": {},
   "outputs": [],
   "source": [
    "#Detection setup with Mediapipe\n",
    "mp_face_detection = mp.solutions.face_detection\n",
    "#model_selection=0 for faces within 2metres from camera, =1 for faces within 5metres\n",
    "with mp_face_detection.FaceDetection(min_detection_confidence=0.5, model_selection=0) as face_detection:\n",
    "    if args.mode in [\"image\"]:\n",
    "        # read image\n",
    "        img = cv2.imread(args.filePath)\n",
    "        img = process_img(img, face_detection)\n",
    "        # save image\n",
    "        cv2.imwrite(os.path.join(output_dir, 'output.png'), img)\n",
    "\n",
    "    elif args.mode in ['video']:\n",
    "        cap = cv2.VideoCapture(args.filePath)\n",
    "        ret, frame = cap.read()\n",
    "        output_video = cv2.VideoWriter(os.path.join(output_dir, 'output.mp4'),\n",
    "                                       cv2.VideoWriter_fourcc(*'MP4V'),\n",
    "                                       25,\n",
    "                                       (frame.shape[1], frame.shape[0]))\n",
    "        \n",
    "        while ret:\n",
    "            frame = process_img(frame, face_detection)\n",
    "            output_video.write(frame)\n",
    "            ret, frame = cap.read()\n",
    "        cap.release()\n",
    "        output_video.release()\n",
    "\n",
    "    elif args.mode in ['webcam']:\n",
    "        cap = cv2.VideoCapture(0)\n",
    "        ret, frame = cap.read()\n",
    "        while ret:\n",
    "            frame = process_img(frame, face_detection)\n",
    "            cv2.imshow('frame', frame)\n",
    "            cv2.waitKey(25)\n",
    "            ret, frame = cap.read()\n",
    "        cap.release()\n"
   ]
  },
  {
   "cell_type": "code",
   "execution_count": null,
   "id": "6bd22002",
   "metadata": {},
   "outputs": [],
   "source": []
  }
 ],
 "metadata": {
  "kernelspec": {
   "display_name": "Python 3 (ipykernel)",
   "language": "python",
   "name": "python3"
  },
  "language_info": {
   "codemirror_mode": {
    "name": "ipython",
    "version": 3
   },
   "file_extension": ".py",
   "mimetype": "text/x-python",
   "name": "python",
   "nbconvert_exporter": "python",
   "pygments_lexer": "ipython3",
   "version": "3.9.12"
  }
 },
 "nbformat": 4,
 "nbformat_minor": 5
}
